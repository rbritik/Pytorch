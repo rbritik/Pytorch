{
 "cells": [
  {
   "cell_type": "code",
   "execution_count": 1,
   "id": "14ede67d",
   "metadata": {},
   "outputs": [],
   "source": [
    "import csv\n",
    "import torch\n",
    "import torch.nn as nn\n",
    "from torch.nn import functional as F\n",
    "import warnings\n",
    "warnings.filterwarnings('ignore')"
   ]
  },
  {
   "cell_type": "code",
   "execution_count": 3,
   "id": "7e88a8c6",
   "metadata": {},
   "outputs": [
    {
     "name": "stdout",
     "output_type": "stream",
     "text": [
      "yaman\n"
     ]
    }
   ],
   "source": [
    "import unicodedata\n",
    "import string\n",
    "\n",
    "all_letters = string.ascii_letters + \" .,;'\"\n",
    "n_letters = len(all_letters)\n",
    "def unicode_to_ascii(s):\n",
    "    return ''.join(\n",
    "    c for c in unicodedata.normalize('NFD', s)\n",
    "    if unicodedata.category(c) != 'Mn'\n",
    "    and c in all_letters\n",
    "    )\n",
    "\n",
    "print(unicode_to_ascii(\"ÿaman\"))"
   ]
  },
  {
   "cell_type": "code",
   "execution_count": 39,
   "id": "bc529207",
   "metadata": {
    "scrolled": true
   },
   "outputs": [
    {
     "name": "stdout",
     "output_type": "stream",
     "text": [
      "Yash 1\n",
      "Prit 1\n",
      "Meet 1\n",
      "Drashti 0\n",
      "Saloni 0\n"
     ]
    }
   ],
   "source": [
    "from itertools import islice\n",
    "\n",
    "training_examples = {}\n",
    "n_categories = 2\n",
    "categories = {'M': 1, 'F': 0}\n",
    "\n",
    "with open('FirstNames.csv', 'r', encoding='latin-1') as f:\n",
    "    reader = csv.reader(f)\n",
    "    next(reader)   # skip the header row if it exists\n",
    "    \n",
    "    for row in reader:\n",
    "        name = row[0].strip()\n",
    "        name = unicode_to_ascii(name)\n",
    "        gender = row[1].strip()\n",
    "        \n",
    "        training_examples[name] = int(gender)\n",
    "    \n",
    "for key, value in islice(training_examples.items(), 5):\n",
    "    print(key, value)"
   ]
  },
  {
   "cell_type": "code",
   "execution_count": 5,
   "id": "1acd1d60",
   "metadata": {},
   "outputs": [],
   "source": [
    "# Turning names into Tensors\n",
    "# TO represent a single letter, we use a \"one-hot vector of size <1 x n_letters>\"\n",
    "def letter_to_tensor(letter):\n",
    "    tensor = torch.zeros(1, n_letters)\n",
    "    letter_index = all_letters.find(letter)\n",
    "    tensor[0][letter_index] = 1\n",
    "    return tensor\n",
    "\n",
    "\n",
    "# Turn a word into a tensor <word_length x 1 x n_letters>, \n",
    "# or an array of one-hot letter vectors\n",
    "def name_to_tensor(word):\n",
    "    tensor = torch.zeros(len(word), 1, n_letters)\n",
    "    for li, letter in enumerate(word):\n",
    "        letter_index = all_letters.find(letter)\n",
    "        tensor[li][0][letter_index] = 1\n",
    "    return tensor"
   ]
  },
  {
   "cell_type": "code",
   "execution_count": 6,
   "id": "c4571eb7",
   "metadata": {},
   "outputs": [
    {
     "name": "stdout",
     "output_type": "stream",
     "text": [
      "tensor([[1., 0., 0., 0., 0., 0., 0., 0., 0., 0., 0., 0., 0., 0., 0., 0., 0., 0.,\n",
      "         0., 0., 0., 0., 0., 0., 0., 0., 0., 0., 0., 0., 0., 0., 0., 0., 0., 0.,\n",
      "         0., 0., 0., 0., 0., 0., 0., 0., 0., 0., 0., 0., 0., 0., 0., 0., 0., 0.,\n",
      "         0., 0., 0.]])\n"
     ]
    }
   ],
   "source": [
    "print(letter_to_tensor('a'))"
   ]
  },
  {
   "cell_type": "code",
   "execution_count": 7,
   "id": "63b5b1fa",
   "metadata": {},
   "outputs": [
    {
     "name": "stdout",
     "output_type": "stream",
     "text": [
      "torch.Size([5, 1, 57])\n"
     ]
    }
   ],
   "source": [
    "print(name_to_tensor('rohan').size())"
   ]
  },
  {
   "attachments": {
    "RNN_arch.png": {
     "image/png": "[encoded data removed]"
    }
   },
   "cell_type": "markdown",
   "id": "12ca2ed9",
   "metadata": {},
   "source": [
    "### RNN architecture\n",
    "![RNN_arch.png](attachment:RNN_arch.png)"
   ]
  },
  {
   "cell_type": "code",
   "execution_count": 23,
   "id": "13f81f0a",
   "metadata": {},
   "outputs": [],
   "source": [
    "# Creating the Network\n",
    "from torch.autograd import Variable\n",
    "\n",
    "class RNN(nn.Module):\n",
    "    \n",
    "    def __init__(self, input_size, hidden_size, output_size):\n",
    "        super(RNN, self).__init__()\n",
    "        \n",
    "        self.input_size = input_size\n",
    "        self.hidden_size = hidden_size\n",
    "        self.output_size = output_size\n",
    "        \n",
    "        self.i2h = nn.Linear(input_size + hidden_size, hidden_size)  # Hidden cell that is feed to next cell\n",
    "        self.i2o = nn.Linear(input_size + hidden_size, output_size)   # output cell\n",
    "        self.sigmoid= nn.Sigmoid()\n",
    "        \n",
    "    def forward(self, inputt, hidden):\n",
    "        combined = torch.cat((inputt, hidden), 1)\n",
    "        hidden = self.i2h(combined)\n",
    "        output = self.i2o(combined)\n",
    "        output = self.sigmoid(output)\n",
    "        return output[0], hidden\n",
    "    \n",
    "    def init_hidden(self):\n",
    "        return Variable(torch.zeros(1, self.hidden_size))\n",
    "        "
   ]
  },
  {
   "cell_type": "code",
   "execution_count": 24,
   "id": "53307ff1",
   "metadata": {},
   "outputs": [],
   "source": [
    "# Testing Rnn\n",
    "n_hidden = 128\n",
    "rnn = RNN(n_letters, n_hidden, 1)"
   ]
  },
  {
   "cell_type": "code",
   "execution_count": 25,
   "id": "0bdb2f52",
   "metadata": {},
   "outputs": [
    {
     "name": "stdout",
     "output_type": "stream",
     "text": [
      "output.size =  torch.Size([1])\n"
     ]
    }
   ],
   "source": [
    "inputt = Variable(letter_to_tensor('A'))\n",
    "hidden = rnn.init_hidden()\n",
    "\n",
    "output, next_hidden = rnn(inputt, hidden)\n",
    "print('output.size = ', output.size())"
   ]
  },
  {
   "cell_type": "code",
   "execution_count": 26,
   "id": "bb6e2292",
   "metadata": {},
   "outputs": [
    {
     "name": "stdout",
     "output_type": "stream",
     "text": [
      "tensor([0.5003], grad_fn=<SelectBackward0>)\n"
     ]
    }
   ],
   "source": [
    "inputt = Variable(name_to_tensor('Ram'))\n",
    "hidden = Variable(torch.zeros(1, n_hidden))\n",
    "\n",
    "output, next_hidden = rnn(inputt[0], hidden)\n",
    "print(output)"
   ]
  },
  {
   "cell_type": "code",
   "execution_count": 27,
   "id": "6b626522",
   "metadata": {},
   "outputs": [
    {
     "name": "stdout",
     "output_type": "stream",
     "text": [
      "1 M\n"
     ]
    }
   ],
   "source": [
    "# Helper function to tell which category(Male/'M' or Female/'F') the output belongs to\n",
    "\n",
    "def category_from_output(output):\n",
    "    prob = output.data[0]\n",
    "    if prob > 0.5:\n",
    "        return 1, 'M'\n",
    "    else:\n",
    "        return 0, 'F'\n",
    "\n",
    "category, category_label = category_from_output(output)\n",
    "print(category, category_label)"
   ]
  },
  {
   "cell_type": "code",
   "execution_count": 28,
   "id": "0e76628c",
   "metadata": {},
   "outputs": [
    {
     "name": "stdout",
     "output_type": "stream",
     "text": [
      "category = M name = Haresh\n",
      "category = F name = Veronica\n",
      "category = F name = Manvi\n",
      "category = F name = Snehal\n",
      "category = F name = Hiti\n",
      "category = M name = Kaustubh\n",
      "category = M name = Umang\n",
      "category = M name = Murili\n",
      "category = F name = Rekha\n",
      "category = M name = Shamil\n"
     ]
    }
   ],
   "source": [
    "# We will also want a quick way to get a training example (a name and its gender):\n",
    "import random\n",
    "\n",
    "def random_training_pair():\n",
    "    # Select a random example from the dictionary\n",
    "    name, gender = random.choice(list(training_examples.items()))\n",
    "\n",
    "    # Convert gender label to category index (0 or 1)\n",
    "    category = 'F' if gender == 0 else 'M'\n",
    "    \n",
    "    # Convert category to tensor\n",
    "    category_tensor = Variable(torch.FloatTensor([0 if gender == 0 else 1]))\n",
    "    \n",
    "    name_tensor = Variable(name_to_tensor(name))\n",
    "    \n",
    "    return category, name, category_tensor, name_tensor \n",
    "\n",
    "for i in range(10):\n",
    "    category, line, category_tensor, line_tensor = random_training_pair()\n",
    "    print('category =', category, 'name =', line)"
   ]
  },
  {
   "attachments": {},
   "cell_type": "markdown",
   "id": "e533ea06",
   "metadata": {},
   "source": [
    "## Training the Network"
   ]
  },
  {
   "cell_type": "code",
   "execution_count": 29,
   "id": "925a5e41",
   "metadata": {},
   "outputs": [],
   "source": [
    "criterion = nn.BCELoss()"
   ]
  },
  {
   "cell_type": "code",
   "execution_count": 30,
   "id": "574241c5",
   "metadata": {},
   "outputs": [],
   "source": [
    "learning_rate = 0.005\n",
    "optimizer = torch.optim.SGD(rnn.parameters(), lr=learning_rate)"
   ]
  },
  {
   "cell_type": "code",
   "execution_count": 31,
   "id": "d83efd28",
   "metadata": {},
   "outputs": [],
   "source": [
    "def train(category_tensor, name_tensor):\n",
    "    rnn.zero_grad()\n",
    "    hidden = rnn.init_hidden()\n",
    "    \n",
    "    for i in range(name_tensor.size()[0]):\n",
    "        output, hidden = rnn(name_tensor[i], hidden)\n",
    "        \n",
    "    loss = criterion(output, category_tensor)\n",
    "    loss.backward()\n",
    "    optimizer.step()\n",
    "    \n",
    "    return output, loss.data"
   ]
  },
  {
   "cell_type": "code",
   "execution_count": 32,
   "id": "c79affc9",
   "metadata": {},
   "outputs": [
    {
     "name": "stdout",
     "output_type": "stream",
     "text": [
      "5000 5% (0m 11s) 0.4077 Ishaan / M ✓\n",
      "10000 10% (0m 24s) 1.3431 Shrenu / M ✗ (F)\n",
      "15000 15% (0m 37s) 0.1874 Parvti / F ✓\n",
      "20000 20% (0m 48s) 0.0395 Rubina / F ✓\n",
      "25000 25% (1m 0s) 0.0159 Rakesh / M ✓\n",
      "30000 30% (1m 12s) 0.1358 Jay / M ✓\n",
      "35000 35% (1m 23s) 1.5942 Chahat / M ✗ (F)\n",
      "40000 40% (1m 34s) 1.0211 Hinal / M ✗ (F)\n",
      "45000 45% (1m 45s) 0.7473 Vinu / F ✗ (M)\n",
      "50000 50% (1m 56s) 0.0402 Dakshita / F ✓\n",
      "55000 55% (2m 7s) 0.0108 Soniya / F ✓\n",
      "60000 60% (2m 21s) 1.0374 Raakhee / M ✗ (F)\n",
      "65000 65% (2m 44s) 0.0056 Nisha / F ✓\n",
      "70000 70% (3m 7s) 0.0636 Mahi / F ✓\n",
      "75000 75% (3m 29s) 0.1031 Yagnik / M ✓\n",
      "80000 80% (3m 51s) 0.3111 Jackky / M ✓\n",
      "85000 85% (4m 14s) 0.0637 Arhaan / M ✓\n",
      "90000 90% (4m 36s) 0.1934 Rizwan / M ✓\n",
      "95000 95% (4m 59s) 0.6950 Mehul / F ✗ (M)\n",
      "100000 100% (5m 21s) 0.0403 Tanmay / M ✓\n"
     ]
    }
   ],
   "source": [
    "import math\n",
    "import time\n",
    "\n",
    "n_epochs = 100000\n",
    "print_every = 5000\n",
    "plot_every = 1000\n",
    "\n",
    "# keep track of losses for plotting\n",
    "current_loss = 0\n",
    "all_losses = []\n",
    "\n",
    "def time_since(since):\n",
    "    now = time.time()\n",
    "    s = now - since\n",
    "    m = math.floor(s / 60)\n",
    "    s -= m * 60\n",
    "    return '%dm %ds' % (m , s)\n",
    "\n",
    "start = time.time()\n",
    "\n",
    "for epoch in range(1, n_epochs + 1):\n",
    "    # Get a random training input and target\n",
    "    category, line, category_tensor, line_tensor = random_training_pair()\n",
    "    output, loss = train(category_tensor, line_tensor)\n",
    "    current_loss += loss\n",
    "    \n",
    "    # print epoch number, loss and name and guess\n",
    "    if epoch % print_every == 0:\n",
    "        _, guess_i = category_from_output(output)\n",
    "        correct = '✓' if guess_i == category else '✗ (%s)' % category\n",
    "        print('%d %d%% (%s) %.4f %s / %s %s' % (epoch, epoch / n_epochs * 100, time_since(start), loss, line, guess_i, correct))\n",
    "    \n",
    "    # Add current loss avg to list of losses\n",
    "    if epoch % plot_every == 0:\n",
    "        all_losses.append(current_loss / plot_every)\n",
    "        current_loss = 0"
   ]
  },
  {
   "cell_type": "code",
   "execution_count": 33,
   "id": "9c131fd4",
   "metadata": {},
   "outputs": [
    {
     "data": {
      "text/plain": [
       "[<matplotlib.lines.Line2D at 0x15156c7c0d0>]"
      ]
     },
     "execution_count": 33,
     "metadata": {},
     "output_type": "execute_result"
    },
    {
     "data": {
      "image/png": "[encoded data removed]",
      "text/plain": [
       "<Figure size 640x480 with 1 Axes>"
      ]
     },
     "metadata": {},
     "output_type": "display_data"
    }
   ],
   "source": [
    "import matplotlib.pyplot as plt\n",
    "import matplotlib.ticker as ticker\n",
    "%matplotlib inline\n",
    "\n",
    "plt.figure()\n",
    "plt.plot(all_losses)"
   ]
  },
  {
   "attachments": {},
   "cell_type": "markdown",
   "id": "00fba0b7",
   "metadata": {},
   "source": [
    "### Evaluate the Results"
   ]
  },
  {
   "cell_type": "code",
   "execution_count": 43,
   "id": "3ea52b8f",
   "metadata": {},
   "outputs": [
    {
     "data": {
      "image/png": "[encoded data removed]",
      "text/plain": [
       "<Figure size 640x480 with 2 Axes>"
      ]
     },
     "metadata": {},
     "output_type": "display_data"
    }
   ],
   "source": [
    "# keep track of correct guesses in a confusion matrix\n",
    "\n",
    "all_categories = ['F', 'M']\n",
    "\n",
    "confusion = torch.zeros(n_categories, n_categories)\n",
    "\n",
    "n_confusion = 1000\n",
    "\n",
    "# just return an output given a name\n",
    "def evaluate(name_tensor):\n",
    "    hidden = rnn.init_hidden()\n",
    "    \n",
    "    for i in range(name_tensor.size()[0]):\n",
    "        output, hidden = rnn(name_tensor[i], hidden)\n",
    "    return output\n",
    "\n",
    "# GO through a bunch of examples and record which are correctly guessed\n",
    "for i in range(n_confusion):\n",
    "    category, name, category_tensor, name_tensor = random_training_pair()\n",
    "    output = evaluate(name_tensor)\n",
    "    guess, guess_i = category_from_output(output)\n",
    "    category_i = categories[category]\n",
    "    confusion[category_i][guess] += 1\n",
    "\n",
    "# Normalize by dividing every row by its sum\n",
    "for i in range(n_categories):\n",
    "    confusion[i] = confusion[i] / confusion[i].sum()\n",
    "    \n",
    "# Set up plot\n",
    "fig = plt.figure()\n",
    "ax = fig.add_subplot(111)\n",
    "cax = ax.matshow(confusion.numpy())\n",
    "fig.colorbar(cax)\n",
    "\n",
    "# Set up axes\n",
    "ax.set_xticklabels([''] + all_categories, rotation=90)\n",
    "ax.set_yticklabels([''] + all_categories)\n",
    "\n",
    "# Force label at every tick\n",
    "ax.xaxis.set_major_locator(ticker.MultipleLocator(1))\n",
    "ax.yaxis.set_major_locator(ticker.MultipleLocator(1))\n",
    "\n",
    "plt.show()"
   ]
  },
  {
   "attachments": {},
   "cell_type": "markdown",
   "id": "7cbba175",
   "metadata": {},
   "source": [
    "###  Running on User Input"
   ]
  },
  {
   "cell_type": "code",
   "execution_count": 71,
   "id": "9243d941",
   "metadata": {},
   "outputs": [
    {
     "name": "stdout",
     "output_type": "stream",
     "text": [
      "\n",
      "> Yaksh\n",
      "(0.99) M\n",
      "\n",
      "> Kartika\n",
      "(0.00) F\n",
      "\n",
      "> Navya\n",
      "(0.06) F\n",
      "\n",
      "> Kartik\n",
      "(0.98) M\n"
     ]
    }
   ],
   "source": [
    "def predict(input_name):\n",
    "    print('\\n> %s' % input_name)\n",
    "    prob = evaluate(Variable(name_to_tensor(input_name)))\n",
    "    \n",
    "    # Get the corresponding gender\n",
    "    output = 'M' if prob > 0.5 else  'F'\n",
    "    print('(%.2f) %s' %(prob, output))\n",
    "\n",
    "predict('Yaksh')\n",
    "predict('Kartika')\n",
    "predict('Navya')\n",
    "predict('Kartik')"
   ]
  },
  {
   "cell_type": "code",
   "execution_count": null,
   "id": "bca22a11",
   "metadata": {},
   "outputs": [],
   "source": []
  }
 ],
 "metadata": {
  "kernelspec": {
   "display_name": "Python 3 (ipykernel)",
   "language": "python",
   "name": "python3"
  },
  "language_info": {
   "codemirror_mode": {
    "name": "ipython",
    "version": 3
   },
   "file_extension": ".py",
   "mimetype": "text/x-python",
   "name": "python",
   "nbconvert_exporter": "python",
   "pygments_lexer": "ipython3",
   "version": "3.11.2"
  }
 },
 "nbformat": 4,
 "nbformat_minor": 5
}
